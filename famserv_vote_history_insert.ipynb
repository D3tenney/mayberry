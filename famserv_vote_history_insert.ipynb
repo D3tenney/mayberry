{
 "cells": [
  {
   "cell_type": "code",
   "execution_count": null,
   "metadata": {},
   "outputs": [],
   "source": [
    "import os\n",
    "from sqlalchemy import create_engine\n",
    "from dotenv import load_dotenv\n",
    "import s3fs\n",
    "import pandas as pd\n",
    "\n",
    "load_dotenv(override=True)\n",
    "\n",
    "# DATABASE CONNECTION\n",
    "PG_USER = os.environ.get(\"PG_USER\")\n",
    "PG_PASS = os.environ.get(\"PG_PASS\")\n",
    "PG_HOST = os.environ.get(\"PG_HOST\")\n",
    "PG_DB = os.environ.get(\"PG_DB\")\n",
    "PG_PORT = os.environ.get(\"PG_PORT\")\n",
    "\n",
    "conn_string = \"postgresql://{0}:{1}@{2}:{3}/{4}\".format(\n",
    "    PG_USER, PG_PASS, PG_HOST, PG_PORT, PG_DB)\n",
    "engine = create_engine(conn_string)\n",
    "conn = engine.connect()"
   ]
  },
  {
   "cell_type": "code",
   "execution_count": null,
   "metadata": {},
   "outputs": [],
   "source": []
  }
 ],
 "metadata": {
  "kernelspec": {
   "display_name": "Python 3",
   "language": "python",
   "name": "python3"
  },
  "language_info": {
   "codemirror_mode": {
    "name": "ipython",
    "version": 3
   },
   "file_extension": ".py",
   "mimetype": "text/x-python",
   "name": "python",
   "nbconvert_exporter": "python",
   "pygments_lexer": "ipython3",
   "version": "3.7.4"
  }
 },
 "nbformat": 4,
 "nbformat_minor": 4
}
