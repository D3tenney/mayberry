{
 "cells": [
  {
   "cell_type": "code",
   "execution_count": 1,
   "metadata": {},
   "outputs": [],
   "source": [
    "import pandas as pd\n",
    "import random"
   ]
  },
  {
   "cell_type": "code",
   "execution_count": 6,
   "metadata": {},
   "outputs": [
    {
     "name": "stderr",
     "output_type": "stream",
     "text": [
      "c:\\users\\d3ten\\documents\\gitprojects\\nc_voter\\venv\\lib\\site-packages\\IPython\\core\\interactiveshell.py:3063: DtypeWarning: Columns (24,37,41,46,47,50,51,52,53,54,55,56,57,58,59) have mixed types.Specify dtype option on import or set low_memory=False.\n",
      "  interactivity=interactivity, compiler=compiler, result=result)\n"
     ]
    },
    {
     "data": {
      "text/plain": [
       "(100000, 71)"
      ]
     },
     "execution_count": 6,
     "metadata": {},
     "output_type": "execute_result"
    }
   ],
   "source": [
    "skip = sorted(random.sample(range(1,7874990), 7774990))\n",
    "vf = pd.read_csv('voterfile_nc_20200201.csv', skiprows=skip)\n",
    "vf.shape"
   ]
  },
  {
   "cell_type": "code",
   "execution_count": 7,
   "metadata": {},
   "outputs": [
    {
     "data": {
      "text/html": [
       "<div>\n",
       "<style scoped>\n",
       "    .dataframe tbody tr th:only-of-type {\n",
       "        vertical-align: middle;\n",
       "    }\n",
       "\n",
       "    .dataframe tbody tr th {\n",
       "        vertical-align: top;\n",
       "    }\n",
       "\n",
       "    .dataframe thead th {\n",
       "        text-align: right;\n",
       "    }\n",
       "</style>\n",
       "<table border=\"1\" class=\"dataframe\">\n",
       "  <thead>\n",
       "    <tr style=\"text-align: right;\">\n",
       "      <th></th>\n",
       "      <th>county_id</th>\n",
       "      <th>county_desc</th>\n",
       "      <th>voter_reg_num</th>\n",
       "      <th>status_cd</th>\n",
       "      <th>voter_status_desc</th>\n",
       "      <th>reason_cd</th>\n",
       "      <th>voter_status_reason_desc</th>\n",
       "      <th>absent_ind</th>\n",
       "      <th>name_prefx_cd</th>\n",
       "      <th>last_name</th>\n",
       "      <th>...</th>\n",
       "      <th>munic_dist_desc</th>\n",
       "      <th>dist_1_abbrv</th>\n",
       "      <th>dist_1_desc</th>\n",
       "      <th>dist_2_abbrv</th>\n",
       "      <th>dist_2_desc</th>\n",
       "      <th>confidential_ind</th>\n",
       "      <th>birth_year</th>\n",
       "      <th>ncid</th>\n",
       "      <th>vtd_abbrv</th>\n",
       "      <th>vtd_desc</th>\n",
       "    </tr>\n",
       "  </thead>\n",
       "  <tbody>\n",
       "    <tr>\n",
       "      <th>0</th>\n",
       "      <td>1</td>\n",
       "      <td>ALAMANCE</td>\n",
       "      <td>9144385</td>\n",
       "      <td>I</td>\n",
       "      <td>INACTIVE</td>\n",
       "      <td>IN</td>\n",
       "      <td>CONFIRMATION NOT RETURNED</td>\n",
       "      <td></td>\n",
       "      <td></td>\n",
       "      <td>AARON</td>\n",
       "      <td>...</td>\n",
       "      <td>BURLINGTON</td>\n",
       "      <td>17.0</td>\n",
       "      <td>17TH PROSECUTORIAL</td>\n",
       "      <td></td>\n",
       "      <td></td>\n",
       "      <td>N</td>\n",
       "      <td>1975</td>\n",
       "      <td>AA181361</td>\n",
       "      <td>124</td>\n",
       "      <td>124</td>\n",
       "    </tr>\n",
       "    <tr>\n",
       "      <th>1</th>\n",
       "      <td>1</td>\n",
       "      <td>ALAMANCE</td>\n",
       "      <td>9023803</td>\n",
       "      <td>R</td>\n",
       "      <td>REMOVED</td>\n",
       "      <td>RS</td>\n",
       "      <td>MOVED FROM STATE</td>\n",
       "      <td></td>\n",
       "      <td></td>\n",
       "      <td>ABBOTT</td>\n",
       "      <td>...</td>\n",
       "      <td>NaN</td>\n",
       "      <td>NaN</td>\n",
       "      <td>NaN</td>\n",
       "      <td></td>\n",
       "      <td></td>\n",
       "      <td>N</td>\n",
       "      <td>1947</td>\n",
       "      <td>AA73791</td>\n",
       "      <td>NaN</td>\n",
       "      <td>NaN</td>\n",
       "    </tr>\n",
       "    <tr>\n",
       "      <th>2</th>\n",
       "      <td>1</td>\n",
       "      <td>ALAMANCE</td>\n",
       "      <td>9160382</td>\n",
       "      <td>I</td>\n",
       "      <td>INACTIVE</td>\n",
       "      <td>IN</td>\n",
       "      <td>CONFIRMATION NOT RETURNED</td>\n",
       "      <td></td>\n",
       "      <td></td>\n",
       "      <td>ADAM</td>\n",
       "      <td>...</td>\n",
       "      <td>BURLINGTON</td>\n",
       "      <td>17.0</td>\n",
       "      <td>17TH PROSECUTORIAL</td>\n",
       "      <td></td>\n",
       "      <td></td>\n",
       "      <td>N</td>\n",
       "      <td>1995</td>\n",
       "      <td>AA190991</td>\n",
       "      <td>12S</td>\n",
       "      <td>12S</td>\n",
       "    </tr>\n",
       "    <tr>\n",
       "      <th>3</th>\n",
       "      <td>1</td>\n",
       "      <td>ALAMANCE</td>\n",
       "      <td>9166822</td>\n",
       "      <td>R</td>\n",
       "      <td>REMOVED</td>\n",
       "      <td>RD</td>\n",
       "      <td>DECEASED</td>\n",
       "      <td></td>\n",
       "      <td></td>\n",
       "      <td>ADAMS</td>\n",
       "      <td>...</td>\n",
       "      <td>NaN</td>\n",
       "      <td>NaN</td>\n",
       "      <td>NaN</td>\n",
       "      <td></td>\n",
       "      <td></td>\n",
       "      <td>N</td>\n",
       "      <td>1926</td>\n",
       "      <td>DE259291</td>\n",
       "      <td>NaN</td>\n",
       "      <td>NaN</td>\n",
       "    </tr>\n",
       "    <tr>\n",
       "      <th>4</th>\n",
       "      <td>1</td>\n",
       "      <td>ALAMANCE</td>\n",
       "      <td>9000011</td>\n",
       "      <td>A</td>\n",
       "      <td>ACTIVE</td>\n",
       "      <td>AV</td>\n",
       "      <td>VERIFIED</td>\n",
       "      <td></td>\n",
       "      <td></td>\n",
       "      <td>ADAMS</td>\n",
       "      <td>...</td>\n",
       "      <td>NaN</td>\n",
       "      <td>17.0</td>\n",
       "      <td>17TH PROSECUTORIAL</td>\n",
       "      <td></td>\n",
       "      <td></td>\n",
       "      <td>N</td>\n",
       "      <td>1955</td>\n",
       "      <td>AA50366</td>\n",
       "      <td>07</td>\n",
       "      <td>07</td>\n",
       "    </tr>\n",
       "  </tbody>\n",
       "</table>\n",
       "<p>5 rows × 71 columns</p>\n",
       "</div>"
      ],
      "text/plain": [
       "   county_id county_desc  voter_reg_num status_cd voter_status_desc reason_cd  \\\n",
       "0          1    ALAMANCE        9144385         I          INACTIVE        IN   \n",
       "1          1    ALAMANCE        9023803         R           REMOVED        RS   \n",
       "2          1    ALAMANCE        9160382         I          INACTIVE        IN   \n",
       "3          1    ALAMANCE        9166822         R           REMOVED        RD   \n",
       "4          1    ALAMANCE        9000011         A            ACTIVE        AV   \n",
       "\n",
       "    voter_status_reason_desc absent_ind name_prefx_cd last_name  ...  \\\n",
       "0  CONFIRMATION NOT RETURNED                              AARON  ...   \n",
       "1           MOVED FROM STATE                             ABBOTT  ...   \n",
       "2  CONFIRMATION NOT RETURNED                               ADAM  ...   \n",
       "3                   DECEASED                              ADAMS  ...   \n",
       "4                   VERIFIED                              ADAMS  ...   \n",
       "\n",
       "  munic_dist_desc dist_1_abbrv         dist_1_desc dist_2_abbrv dist_2_desc  \\\n",
       "0      BURLINGTON         17.0  17TH PROSECUTORIAL                            \n",
       "1             NaN          NaN                 NaN                            \n",
       "2      BURLINGTON         17.0  17TH PROSECUTORIAL                            \n",
       "3             NaN          NaN                 NaN                            \n",
       "4             NaN         17.0  17TH PROSECUTORIAL                            \n",
       "\n",
       "  confidential_ind  birth_year      ncid vtd_abbrv vtd_desc  \n",
       "0                N        1975  AA181361       124      124  \n",
       "1                N        1947   AA73791       NaN      NaN  \n",
       "2                N        1995  AA190991       12S      12S  \n",
       "3                N        1926  DE259291       NaN      NaN  \n",
       "4                N        1955   AA50366        07       07  \n",
       "\n",
       "[5 rows x 71 columns]"
      ]
     },
     "execution_count": 7,
     "metadata": {},
     "output_type": "execute_result"
    }
   ],
   "source": [
    "vf.head()"
   ]
  },
  {
   "cell_type": "code",
   "execution_count": 8,
   "metadata": {},
   "outputs": [
    {
     "data": {
      "text/plain": [
       "(100, 2)"
      ]
     },
     "execution_count": 8,
     "metadata": {},
     "output_type": "execute_result"
    }
   ],
   "source": [
    "counties = vf[['county_id', 'county_desc']].drop_duplicates().reset_index(drop=True)\n",
    "counties.shape"
   ]
  },
  {
   "cell_type": "code",
   "execution_count": 9,
   "metadata": {},
   "outputs": [
    {
     "data": {
      "text/html": [
       "<div>\n",
       "<style scoped>\n",
       "    .dataframe tbody tr th:only-of-type {\n",
       "        vertical-align: middle;\n",
       "    }\n",
       "\n",
       "    .dataframe tbody tr th {\n",
       "        vertical-align: top;\n",
       "    }\n",
       "\n",
       "    .dataframe thead th {\n",
       "        text-align: right;\n",
       "    }\n",
       "</style>\n",
       "<table border=\"1\" class=\"dataframe\">\n",
       "  <thead>\n",
       "    <tr style=\"text-align: right;\">\n",
       "      <th></th>\n",
       "      <th>county_id</th>\n",
       "      <th>county_desc</th>\n",
       "    </tr>\n",
       "  </thead>\n",
       "  <tbody>\n",
       "    <tr>\n",
       "      <th>0</th>\n",
       "      <td>1</td>\n",
       "      <td>ALAMANCE</td>\n",
       "    </tr>\n",
       "    <tr>\n",
       "      <th>1</th>\n",
       "      <td>2</td>\n",
       "      <td>ALEXANDER</td>\n",
       "    </tr>\n",
       "    <tr>\n",
       "      <th>2</th>\n",
       "      <td>3</td>\n",
       "      <td>ALLEGHANY</td>\n",
       "    </tr>\n",
       "    <tr>\n",
       "      <th>3</th>\n",
       "      <td>4</td>\n",
       "      <td>ANSON</td>\n",
       "    </tr>\n",
       "    <tr>\n",
       "      <th>4</th>\n",
       "      <td>5</td>\n",
       "      <td>ASHE</td>\n",
       "    </tr>\n",
       "  </tbody>\n",
       "</table>\n",
       "</div>"
      ],
      "text/plain": [
       "   county_id county_desc\n",
       "0          1    ALAMANCE\n",
       "1          2   ALEXANDER\n",
       "2          3   ALLEGHANY\n",
       "3          4       ANSON\n",
       "4          5        ASHE"
      ]
     },
     "execution_count": 9,
     "metadata": {},
     "output_type": "execute_result"
    }
   ],
   "source": [
    "counties.head()"
   ]
  },
  {
   "cell_type": "code",
   "execution_count": 28,
   "metadata": {},
   "outputs": [],
   "source": [
    "counties.rename(columns={'county_id': 'id', 'county_desc': 'name'}, inplace=True)\n",
    "counties.to_csv('./helper_tables_20200210/county.csv', index=False)"
   ]
  },
  {
   "cell_type": "code",
   "execution_count": 41,
   "metadata": {},
   "outputs": [
    {
     "data": {
      "text/html": [
       "<div>\n",
       "<style scoped>\n",
       "    .dataframe tbody tr th:only-of-type {\n",
       "        vertical-align: middle;\n",
       "    }\n",
       "\n",
       "    .dataframe tbody tr th {\n",
       "        vertical-align: top;\n",
       "    }\n",
       "\n",
       "    .dataframe thead th {\n",
       "        text-align: right;\n",
       "    }\n",
       "</style>\n",
       "<table border=\"1\" class=\"dataframe\">\n",
       "  <thead>\n",
       "    <tr style=\"text-align: right;\">\n",
       "      <th></th>\n",
       "      <th>id</th>\n",
       "      <th>name</th>\n",
       "    </tr>\n",
       "  </thead>\n",
       "  <tbody>\n",
       "    <tr>\n",
       "      <th>99</th>\n",
       "      <td>100</td>\n",
       "      <td>YANCEY</td>\n",
       "    </tr>\n",
       "  </tbody>\n",
       "</table>\n",
       "</div>"
      ],
      "text/plain": [
       "     id    name\n",
       "99  100  YANCEY"
      ]
     },
     "execution_count": 41,
     "metadata": {},
     "output_type": "execute_result"
    }
   ],
   "source": [
    "counties[counties['name'] == 'YANCEY']"
   ]
  },
  {
   "cell_type": "code",
   "execution_count": 16,
   "metadata": {},
   "outputs": [
    {
     "data": {
      "text/plain": [
       "(2765, 3)"
      ]
     },
     "execution_count": 16,
     "metadata": {},
     "output_type": "execute_result"
    }
   ],
   "source": [
    "precinct = vf[['county_id', 'precinct_abbrv', 'precinct_desc']].drop_duplicates().reset_index(drop=True)\n",
    "precinct.shape"
   ]
  },
  {
   "cell_type": "code",
   "execution_count": 17,
   "metadata": {},
   "outputs": [
    {
     "data": {
      "text/html": [
       "<div>\n",
       "<style scoped>\n",
       "    .dataframe tbody tr th:only-of-type {\n",
       "        vertical-align: middle;\n",
       "    }\n",
       "\n",
       "    .dataframe tbody tr th {\n",
       "        vertical-align: top;\n",
       "    }\n",
       "\n",
       "    .dataframe thead th {\n",
       "        text-align: right;\n",
       "    }\n",
       "</style>\n",
       "<table border=\"1\" class=\"dataframe\">\n",
       "  <thead>\n",
       "    <tr style=\"text-align: right;\">\n",
       "      <th></th>\n",
       "      <th>county_id</th>\n",
       "      <th>precinct_abbrv</th>\n",
       "      <th>precinct_desc</th>\n",
       "    </tr>\n",
       "  </thead>\n",
       "  <tbody>\n",
       "    <tr>\n",
       "      <th>21</th>\n",
       "      <td>1</td>\n",
       "      <td>01</td>\n",
       "      <td>PATTERSON</td>\n",
       "    </tr>\n",
       "    <tr>\n",
       "      <th>33</th>\n",
       "      <td>1</td>\n",
       "      <td>02</td>\n",
       "      <td>COBLE</td>\n",
       "    </tr>\n",
       "    <tr>\n",
       "      <th>12</th>\n",
       "      <td>1</td>\n",
       "      <td>035</td>\n",
       "      <td>BOONE 5</td>\n",
       "    </tr>\n",
       "    <tr>\n",
       "      <th>25</th>\n",
       "      <td>1</td>\n",
       "      <td>03C</td>\n",
       "      <td>CENTRAL BOONE</td>\n",
       "    </tr>\n",
       "    <tr>\n",
       "      <th>8</th>\n",
       "      <td>1</td>\n",
       "      <td>03N</td>\n",
       "      <td>NORTH BOONE</td>\n",
       "    </tr>\n",
       "  </tbody>\n",
       "</table>\n",
       "</div>"
      ],
      "text/plain": [
       "    county_id precinct_abbrv  precinct_desc\n",
       "21          1             01      PATTERSON\n",
       "33          1             02          COBLE\n",
       "12          1            035        BOONE 5\n",
       "25          1            03C  CENTRAL BOONE\n",
       "8           1            03N    NORTH BOONE"
      ]
     },
     "execution_count": 17,
     "metadata": {},
     "output_type": "execute_result"
    }
   ],
   "source": [
    "precinct.sort_values(['county_id', 'precinct_abbrv']).head()"
   ]
  },
  {
   "cell_type": "code",
   "execution_count": 29,
   "metadata": {},
   "outputs": [],
   "source": [
    "precinct.rename(columns={'precinct_abbrv': 'abbrv', 'precinct_desc': 'description'}, inplace=True)\n",
    "precinct = precinct[~precinct['abbrv'].isna()]\n",
    "precinct.to_csv('./helper_tables_20200210/precinct.csv', index=False)"
   ]
  },
  {
   "cell_type": "code",
   "execution_count": 23,
   "metadata": {},
   "outputs": [
    {
     "data": {
      "text/plain": [
       "(558, 4)"
      ]
     },
     "execution_count": 23,
     "metadata": {},
     "output_type": "execute_result"
    }
   ],
   "source": [
    "munic = vf[['municipality_abbrv', 'municipality_desc', 'munic_dist_abbrv', 'munic_dist_desc']].drop_duplicates().reset_index(drop=True)\n",
    "munic.shape"
   ]
  },
  {
   "cell_type": "code",
   "execution_count": 24,
   "metadata": {},
   "outputs": [
    {
     "data": {
      "text/plain": [
       "(5, 2)"
      ]
     },
     "execution_count": 24,
     "metadata": {},
     "output_type": "execute_result"
    }
   ],
   "source": [
    "status = vf[['status_cd', 'voter_status_desc']].drop_duplicates().reset_index(drop=True)\n",
    "status.shape"
   ]
  },
  {
   "cell_type": "code",
   "execution_count": 25,
   "metadata": {},
   "outputs": [
    {
     "data": {
      "text/html": [
       "<div>\n",
       "<style scoped>\n",
       "    .dataframe tbody tr th:only-of-type {\n",
       "        vertical-align: middle;\n",
       "    }\n",
       "\n",
       "    .dataframe tbody tr th {\n",
       "        vertical-align: top;\n",
       "    }\n",
       "\n",
       "    .dataframe thead th {\n",
       "        text-align: right;\n",
       "    }\n",
       "</style>\n",
       "<table border=\"1\" class=\"dataframe\">\n",
       "  <thead>\n",
       "    <tr style=\"text-align: right;\">\n",
       "      <th></th>\n",
       "      <th>status_cd</th>\n",
       "      <th>voter_status_desc</th>\n",
       "    </tr>\n",
       "  </thead>\n",
       "  <tbody>\n",
       "    <tr>\n",
       "      <th>0</th>\n",
       "      <td>I</td>\n",
       "      <td>INACTIVE</td>\n",
       "    </tr>\n",
       "    <tr>\n",
       "      <th>1</th>\n",
       "      <td>R</td>\n",
       "      <td>REMOVED</td>\n",
       "    </tr>\n",
       "    <tr>\n",
       "      <th>2</th>\n",
       "      <td>A</td>\n",
       "      <td>ACTIVE</td>\n",
       "    </tr>\n",
       "    <tr>\n",
       "      <th>3</th>\n",
       "      <td>D</td>\n",
       "      <td>DENIED</td>\n",
       "    </tr>\n",
       "    <tr>\n",
       "      <th>4</th>\n",
       "      <td>S</td>\n",
       "      <td>TEMPORARY</td>\n",
       "    </tr>\n",
       "  </tbody>\n",
       "</table>\n",
       "</div>"
      ],
      "text/plain": [
       "  status_cd voter_status_desc\n",
       "0         I          INACTIVE\n",
       "1         R           REMOVED\n",
       "2         A            ACTIVE\n",
       "3         D            DENIED\n",
       "4         S         TEMPORARY"
      ]
     },
     "execution_count": 25,
     "metadata": {},
     "output_type": "execute_result"
    }
   ],
   "source": [
    "status"
   ]
  },
  {
   "cell_type": "code",
   "execution_count": 30,
   "metadata": {},
   "outputs": [],
   "source": [
    "status.rename(columns = {'status_cd': 'cd', 'voter_status_desc': 'description'}, inplace=True)\n",
    "status.to_csv('./helper_tables_20200210/status.csv', index=False)"
   ]
  },
  {
   "cell_type": "code",
   "execution_count": 32,
   "metadata": {},
   "outputs": [
    {
     "data": {
      "text/plain": [
       "(25, 2)"
      ]
     },
     "execution_count": 32,
     "metadata": {},
     "output_type": "execute_result"
    }
   ],
   "source": [
    "status_reason = vf[['reason_cd', 'voter_status_reason_desc']].drop_duplicates().reset_index(drop=True)\n",
    "status_reason.shape"
   ]
  },
  {
   "cell_type": "code",
   "execution_count": 33,
   "metadata": {},
   "outputs": [
    {
     "data": {
      "text/html": [
       "<div>\n",
       "<style scoped>\n",
       "    .dataframe tbody tr th:only-of-type {\n",
       "        vertical-align: middle;\n",
       "    }\n",
       "\n",
       "    .dataframe tbody tr th {\n",
       "        vertical-align: top;\n",
       "    }\n",
       "\n",
       "    .dataframe thead th {\n",
       "        text-align: right;\n",
       "    }\n",
       "</style>\n",
       "<table border=\"1\" class=\"dataframe\">\n",
       "  <thead>\n",
       "    <tr style=\"text-align: right;\">\n",
       "      <th></th>\n",
       "      <th>reason_cd</th>\n",
       "      <th>voter_status_reason_desc</th>\n",
       "    </tr>\n",
       "  </thead>\n",
       "  <tbody>\n",
       "    <tr>\n",
       "      <th>0</th>\n",
       "      <td>IN</td>\n",
       "      <td>CONFIRMATION NOT RETURNED</td>\n",
       "    </tr>\n",
       "    <tr>\n",
       "      <th>1</th>\n",
       "      <td>RS</td>\n",
       "      <td>MOVED FROM STATE</td>\n",
       "    </tr>\n",
       "    <tr>\n",
       "      <th>2</th>\n",
       "      <td>RD</td>\n",
       "      <td>DECEASED</td>\n",
       "    </tr>\n",
       "    <tr>\n",
       "      <th>3</th>\n",
       "      <td>AV</td>\n",
       "      <td>VERIFIED</td>\n",
       "    </tr>\n",
       "    <tr>\n",
       "      <th>4</th>\n",
       "      <td>IU</td>\n",
       "      <td>CONFIRMATION RETURNED UNDELIVERABLE</td>\n",
       "    </tr>\n",
       "    <tr>\n",
       "      <th>5</th>\n",
       "      <td>RM</td>\n",
       "      <td>REMOVED AFTER 2 FED GENERAL ELECTIONS IN INACT...</td>\n",
       "    </tr>\n",
       "    <tr>\n",
       "      <th>6</th>\n",
       "      <td>AP</td>\n",
       "      <td>VERIFICATION PENDING</td>\n",
       "    </tr>\n",
       "    <tr>\n",
       "      <th>7</th>\n",
       "      <td>RL</td>\n",
       "      <td>MOVED FROM COUNTY</td>\n",
       "    </tr>\n",
       "    <tr>\n",
       "      <th>8</th>\n",
       "      <td>DI</td>\n",
       "      <td>UNAVAILABLE ESSENTIAL INFORMATION</td>\n",
       "    </tr>\n",
       "    <tr>\n",
       "      <th>9</th>\n",
       "      <td>DU</td>\n",
       "      <td>VERIFICATION RETURNED UNDELIVERABLE</td>\n",
       "    </tr>\n",
       "    <tr>\n",
       "      <th>10</th>\n",
       "      <td>RF</td>\n",
       "      <td>FELONY CONVICTION</td>\n",
       "    </tr>\n",
       "    <tr>\n",
       "      <th>11</th>\n",
       "      <td>RH</td>\n",
       "      <td>MOVED WITHIN STATE</td>\n",
       "    </tr>\n",
       "    <tr>\n",
       "      <th>12</th>\n",
       "      <td>RA</td>\n",
       "      <td>ADMINISTRATIVE</td>\n",
       "    </tr>\n",
       "    <tr>\n",
       "      <th>13</th>\n",
       "      <td>RT</td>\n",
       "      <td>TEMPORARY REGISTRANT</td>\n",
       "    </tr>\n",
       "    <tr>\n",
       "      <th>14</th>\n",
       "      <td>RQ</td>\n",
       "      <td>REQUEST FROM VOTER</td>\n",
       "    </tr>\n",
       "    <tr>\n",
       "      <th>15</th>\n",
       "      <td>A2</td>\n",
       "      <td>CONFIRMATION PENDING</td>\n",
       "    </tr>\n",
       "    <tr>\n",
       "      <th>16</th>\n",
       "      <td>R2</td>\n",
       "      <td>DUPLICATE</td>\n",
       "    </tr>\n",
       "    <tr>\n",
       "      <th>17</th>\n",
       "      <td>AN</td>\n",
       "      <td>UNVERIFIED NEW</td>\n",
       "    </tr>\n",
       "    <tr>\n",
       "      <th>18</th>\n",
       "      <td>A1</td>\n",
       "      <td>UNVERIFIED</td>\n",
       "    </tr>\n",
       "    <tr>\n",
       "      <th>19</th>\n",
       "      <td>RR</td>\n",
       "      <td>FELONY SENTENCE COMPLETED</td>\n",
       "    </tr>\n",
       "    <tr>\n",
       "      <th>20</th>\n",
       "      <td>AL</td>\n",
       "      <td>LEGACY DATA</td>\n",
       "    </tr>\n",
       "    <tr>\n",
       "      <th>21</th>\n",
       "      <td>SO</td>\n",
       "      <td>OVERSEAS CITIZEN</td>\n",
       "    </tr>\n",
       "    <tr>\n",
       "      <th>22</th>\n",
       "      <td>RC</td>\n",
       "      <td>REMOVED DUE TO SUSTAINED CHALLENGE</td>\n",
       "    </tr>\n",
       "    <tr>\n",
       "      <th>23</th>\n",
       "      <td>SM</td>\n",
       "      <td>MILITARY</td>\n",
       "    </tr>\n",
       "    <tr>\n",
       "      <th>24</th>\n",
       "      <td>AA</td>\n",
       "      <td>ARMED FORCES</td>\n",
       "    </tr>\n",
       "  </tbody>\n",
       "</table>\n",
       "</div>"
      ],
      "text/plain": [
       "   reason_cd                           voter_status_reason_desc\n",
       "0         IN                          CONFIRMATION NOT RETURNED\n",
       "1         RS                                   MOVED FROM STATE\n",
       "2         RD                                           DECEASED\n",
       "3         AV                                           VERIFIED\n",
       "4         IU                CONFIRMATION RETURNED UNDELIVERABLE\n",
       "5         RM  REMOVED AFTER 2 FED GENERAL ELECTIONS IN INACT...\n",
       "6         AP                               VERIFICATION PENDING\n",
       "7         RL                                  MOVED FROM COUNTY\n",
       "8         DI                  UNAVAILABLE ESSENTIAL INFORMATION\n",
       "9         DU                VERIFICATION RETURNED UNDELIVERABLE\n",
       "10        RF                                  FELONY CONVICTION\n",
       "11        RH                                 MOVED WITHIN STATE\n",
       "12        RA                                     ADMINISTRATIVE\n",
       "13        RT                               TEMPORARY REGISTRANT\n",
       "14        RQ                                 REQUEST FROM VOTER\n",
       "15        A2                               CONFIRMATION PENDING\n",
       "16        R2                                          DUPLICATE\n",
       "17        AN                                     UNVERIFIED NEW\n",
       "18        A1                                         UNVERIFIED\n",
       "19        RR                          FELONY SENTENCE COMPLETED\n",
       "20        AL                                        LEGACY DATA\n",
       "21        SO                                   OVERSEAS CITIZEN\n",
       "22        RC                 REMOVED DUE TO SUSTAINED CHALLENGE\n",
       "23        SM                                           MILITARY\n",
       "24        AA                                       ARMED FORCES"
      ]
     },
     "execution_count": 33,
     "metadata": {},
     "output_type": "execute_result"
    }
   ],
   "source": [
    "status_reason"
   ]
  },
  {
   "cell_type": "code",
   "execution_count": 35,
   "metadata": {},
   "outputs": [
    {
     "data": {
      "text/plain": [
       "voter_status_desc  voter_status_reason_desc                                \n",
       "ACTIVE             ARMED FORCES                                                    1\n",
       "                   CONFIRMATION NOT RETURNED                                       9\n",
       "                   CONFIRMATION PENDING                                          540\n",
       "                   CONFIRMATION RETURNED UNDELIVERABLE                             9\n",
       "                   LEGACY DATA                                                   613\n",
       "                   UNVERIFIED                                                    234\n",
       "                   UNVERIFIED NEW                                                154\n",
       "                   VERIFICATION PENDING                                         6816\n",
       "                   VERIFIED                                                    67249\n",
       "DENIED             MOVED FROM STATE                                                1\n",
       "                   UNAVAILABLE ESSENTIAL INFORMATION                              71\n",
       "                   VERIFICATION RETURNED UNDELIVERABLE                          1636\n",
       "INACTIVE           CONFIRMATION NOT RETURNED                                    7414\n",
       "                   CONFIRMATION RETURNED UNDELIVERABLE                          4745\n",
       "REMOVED            ADMINISTRATIVE                                                 18\n",
       "                   DECEASED                                                     5079\n",
       "                   DUPLICATE                                                      47\n",
       "                   FELONY CONVICTION                                             215\n",
       "                   FELONY SENTENCE COMPLETED                                     105\n",
       "                   MOVED FROM COUNTY                                            1050\n",
       "                   MOVED FROM STATE                                             1780\n",
       "                   MOVED WITHIN STATE                                            127\n",
       "                   REMOVED AFTER 2 FED GENERAL ELECTIONS IN INACTIVE STATUS     1882\n",
       "                   REMOVED DUE TO SUSTAINED CHALLENGE                             10\n",
       "                   REQUEST FROM VOTER                                             77\n",
       "                   TEMPORARY REGISTRANT                                           96\n",
       "TEMPORARY          MILITARY                                                        9\n",
       "                   OVERSEAS CITIZEN                                               13\n",
       "dtype: int64"
      ]
     },
     "execution_count": 35,
     "metadata": {},
     "output_type": "execute_result"
    }
   ],
   "source": [
    "vf.groupby(['voter_status_desc', 'voter_status_reason_desc']).size()"
   ]
  },
  {
   "cell_type": "code",
   "execution_count": 36,
   "metadata": {},
   "outputs": [],
   "source": [
    "status_reason.rename(columns= {'reason_cd': 'cd', 'voter_status_reason_desc': 'description'}, inplace=True)\n",
    "status_reason.to_csv('./helper_tables_20200210/status_reason.csv', index=False)"
   ]
  },
  {
   "cell_type": "code",
   "execution_count": 37,
   "metadata": {},
   "outputs": [
    {
     "data": {
      "text/plain": [
       "array([' '], dtype=object)"
      ]
     },
     "execution_count": 37,
     "metadata": {},
     "output_type": "execute_result"
    }
   ],
   "source": [
    "vf['absent_ind'].unique()"
   ]
  },
  {
   "cell_type": "code",
   "execution_count": 38,
   "metadata": {},
   "outputs": [
    {
     "data": {
      "text/plain": [
       "array(['W', 'O', 'U', 'B', 'M', 'A', 'I'], dtype=object)"
      ]
     },
     "execution_count": 38,
     "metadata": {},
     "output_type": "execute_result"
    }
   ],
   "source": [
    "vf['race_code'].unique()"
   ]
  },
  {
   "cell_type": "code",
   "execution_count": 48,
   "metadata": {},
   "outputs": [],
   "source": [
    "race = pd.DataFrame([('B', 'BLACK OR AFRICAN AMERICAN'),\n",
    "                     ('I', 'AMERICAN INDIAN OR ALASKA NATIVE'),\n",
    "                     ('O', 'OTHER'),\n",
    "                     ('W', 'WHITE'),\n",
    "                     ('U', 'UNDESIGNATED'),\n",
    "                     ('A', 'ASIAN'),\n",
    "                     ('M', 'TWO OR MORE RACES')])\n",
    "race.columns = ['code', 'description']"
   ]
  },
  {
   "cell_type": "code",
   "execution_count": 49,
   "metadata": {},
   "outputs": [],
   "source": [
    "race.to_csv('./helper_tables_20200210/race.csv', index=False)"
   ]
  },
  {
   "cell_type": "code",
   "execution_count": 39,
   "metadata": {},
   "outputs": [
    {
     "data": {
      "text/plain": [
       "array(['HL', 'NL', 'UN'], dtype=object)"
      ]
     },
     "execution_count": 39,
     "metadata": {},
     "output_type": "execute_result"
    }
   ],
   "source": [
    "vf['ethnic_code'].unique()"
   ]
  },
  {
   "cell_type": "code",
   "execution_count": 50,
   "metadata": {},
   "outputs": [],
   "source": [
    "ethnicity = pd.DataFrame([('HL', 'HISPANIC OR LATINO'),\n",
    "                          ('NL', 'NOT HISPANIC OR LATINO'),\n",
    "                          ('UN', 'NOT PROVIDED')])\n",
    "ethnicity.columns = ['code', 'description']"
   ]
  },
  {
   "cell_type": "code",
   "execution_count": 51,
   "metadata": {},
   "outputs": [],
   "source": [
    "ethnicity.to_csv('./helper_tables_20200210/ethnicity.csv', index=False)"
   ]
  },
  {
   "cell_type": "code",
   "execution_count": 40,
   "metadata": {},
   "outputs": [
    {
     "data": {
      "text/plain": [
       "array(['UNA', 'DEM', 'REP', 'LIB', 'GRE', 'CST'], dtype=object)"
      ]
     },
     "execution_count": 40,
     "metadata": {},
     "output_type": "execute_result"
    }
   ],
   "source": [
    "vf['party_cd'].unique()"
   ]
  },
  {
   "cell_type": "code",
   "execution_count": 52,
   "metadata": {},
   "outputs": [],
   "source": [
    "party = pd.DataFrame([('DEM', 'DEMOCRATIC PARTY'),\n",
    "                      ('REP', 'REPUBLICAN PARTY'),\n",
    "                      ('LIB', 'LIBERTARIAN PARTY'),\n",
    "                      ('GRE', 'GREEN PARTY'),\n",
    "                      ('CST', 'CONSTITUTION PARTY'),\n",
    "                      ('UNA', 'UNAFFILIATED')])\n",
    "party.columns = ['cd', 'description']"
   ]
  },
  {
   "cell_type": "code",
   "execution_count": 53,
   "metadata": {},
   "outputs": [],
   "source": [
    "party.to_csv('./helper_tables_20200210/party.csv', index=False)"
   ]
  }
 ],
 "metadata": {
  "kernelspec": {
   "display_name": "Python 3",
   "language": "python",
   "name": "python3"
  },
  "language_info": {
   "codemirror_mode": {
    "name": "ipython",
    "version": 3
   },
   "file_extension": ".py",
   "mimetype": "text/x-python",
   "name": "python",
   "nbconvert_exporter": "python",
   "pygments_lexer": "ipython3",
   "version": "3.7.4"
  }
 },
 "nbformat": 4,
 "nbformat_minor": 4
}
